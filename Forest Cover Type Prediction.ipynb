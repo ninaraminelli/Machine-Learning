{
 "cells": [
  {
   "cell_type": "code",
   "execution_count": 119,
   "metadata": {
    "collapsed": true
   },
   "outputs": [],
   "source": [
    "# Import modules\n",
    "import pandas as pd\n",
    "import matplotlib.pyplot as plt\n",
    "import seaborn as sns\n",
    "import re\n",
    "import numpy as np\n",
    "from sklearn import tree\n",
    "from sklearn.model_selection import train_test_split\n",
    "from sklearn.linear_model import LogisticRegression\n",
    "from sklearn.model_selection import GridSearchCV\n",
    "from sklearn.metrics import accuracy_score\n",
    "\n",
    "# Figures inline and set visualization style\n",
    "%matplotlib inline\n",
    "sns.set()"
   ]
  },
  {
   "cell_type": "markdown",
   "metadata": {},
   "source": [
    "# Importing Data"
   ]
  },
  {
   "cell_type": "code",
   "execution_count": 120,
   "metadata": {},
   "outputs": [],
   "source": [
    "df_train = pd.read_csv('data/train_trees.csv')\n",
    "df_test = pd.read_csv('data/test_trees.csv')"
   ]
  },
  {
   "cell_type": "markdown",
   "metadata": {},
   "source": [
    "# Exploring data"
   ]
  },
  {
   "cell_type": "code",
   "execution_count": 121,
   "metadata": {},
   "outputs": [
    {
     "name": "stdout",
     "output_type": "stream",
     "text": [
      "(15120, 56)\n"
     ]
    }
   ],
   "source": [
    "print(df_train.shape)"
   ]
  },
  {
   "cell_type": "markdown",
   "metadata": {},
   "source": [
    "We can see that there are 15120 instances having 55 attributes\n"
   ]
  },
  {
   "cell_type": "code",
   "execution_count": 122,
   "metadata": {},
   "outputs": [
    {
     "name": "stdout",
     "output_type": "stream",
     "text": [
      "   Id  Elevation  Aspect  Slope  Horizontal_Distance_To_Hydrology  \\\n",
      "0   1       2596      51      3                               258   \n",
      "1   2       2590      56      2                               212   \n",
      "2   3       2804     139      9                               268   \n",
      "3   4       2785     155     18                               242   \n",
      "\n",
      "   Vertical_Distance_To_Hydrology  Horizontal_Distance_To_Roadways  \\\n",
      "0                               0                              510   \n",
      "1                              -6                              390   \n",
      "2                              65                             3180   \n",
      "3                             118                             3090   \n",
      "\n",
      "   Hillshade_9am  Hillshade_Noon  Hillshade_3pm     ...      Soil_Type32  \\\n",
      "0            221             232            148     ...                0   \n",
      "1            220             235            151     ...                0   \n",
      "2            234             238            135     ...                0   \n",
      "3            238             238            122     ...                0   \n",
      "\n",
      "   Soil_Type33  Soil_Type34  Soil_Type35  Soil_Type36  Soil_Type37  \\\n",
      "0            0            0            0            0            0   \n",
      "1            0            0            0            0            0   \n",
      "2            0            0            0            0            0   \n",
      "3            0            0            0            0            0   \n",
      "\n",
      "   Soil_Type38  Soil_Type39  Soil_Type40  Cover_Type  \n",
      "0            0            0            0           5  \n",
      "1            0            0            0           5  \n",
      "2            0            0            0           2  \n",
      "3            0            0            0           2  \n",
      "\n",
      "[4 rows x 56 columns]\n"
     ]
    }
   ],
   "source": [
    "print(df_train.head(n=4))\n"
   ]
  },
  {
   "cell_type": "code",
   "execution_count": 123,
   "metadata": {},
   "outputs": [
    {
     "name": "stdout",
     "output_type": "stream",
     "text": [
      "<class 'pandas.core.frame.DataFrame'>\n",
      "RangeIndex: 15120 entries, 0 to 15119\n",
      "Data columns (total 56 columns):\n",
      "Id                                    15120 non-null int64\n",
      "Elevation                             15120 non-null int64\n",
      "Aspect                                15120 non-null int64\n",
      "Slope                                 15120 non-null int64\n",
      "Horizontal_Distance_To_Hydrology      15120 non-null int64\n",
      "Vertical_Distance_To_Hydrology        15120 non-null int64\n",
      "Horizontal_Distance_To_Roadways       15120 non-null int64\n",
      "Hillshade_9am                         15120 non-null int64\n",
      "Hillshade_Noon                        15120 non-null int64\n",
      "Hillshade_3pm                         15120 non-null int64\n",
      "Horizontal_Distance_To_Fire_Points    15120 non-null int64\n",
      "Wilderness_Area1                      15120 non-null int64\n",
      "Wilderness_Area2                      15120 non-null int64\n",
      "Wilderness_Area3                      15120 non-null int64\n",
      "Wilderness_Area4                      15120 non-null int64\n",
      "Soil_Type1                            15120 non-null int64\n",
      "Soil_Type2                            15120 non-null int64\n",
      "Soil_Type3                            15120 non-null int64\n",
      "Soil_Type4                            15120 non-null int64\n",
      "Soil_Type5                            15120 non-null int64\n",
      "Soil_Type6                            15120 non-null int64\n",
      "Soil_Type7                            15120 non-null int64\n",
      "Soil_Type8                            15120 non-null int64\n",
      "Soil_Type9                            15120 non-null int64\n",
      "Soil_Type10                           15120 non-null int64\n",
      "Soil_Type11                           15120 non-null int64\n",
      "Soil_Type12                           15120 non-null int64\n",
      "Soil_Type13                           15120 non-null int64\n",
      "Soil_Type14                           15120 non-null int64\n",
      "Soil_Type15                           15120 non-null int64\n",
      "Soil_Type16                           15120 non-null int64\n",
      "Soil_Type17                           15120 non-null int64\n",
      "Soil_Type18                           15120 non-null int64\n",
      "Soil_Type19                           15120 non-null int64\n",
      "Soil_Type20                           15120 non-null int64\n",
      "Soil_Type21                           15120 non-null int64\n",
      "Soil_Type22                           15120 non-null int64\n",
      "Soil_Type23                           15120 non-null int64\n",
      "Soil_Type24                           15120 non-null int64\n",
      "Soil_Type25                           15120 non-null int64\n",
      "Soil_Type26                           15120 non-null int64\n",
      "Soil_Type27                           15120 non-null int64\n",
      "Soil_Type28                           15120 non-null int64\n",
      "Soil_Type29                           15120 non-null int64\n",
      "Soil_Type30                           15120 non-null int64\n",
      "Soil_Type31                           15120 non-null int64\n",
      "Soil_Type32                           15120 non-null int64\n",
      "Soil_Type33                           15120 non-null int64\n",
      "Soil_Type34                           15120 non-null int64\n",
      "Soil_Type35                           15120 non-null int64\n",
      "Soil_Type36                           15120 non-null int64\n",
      "Soil_Type37                           15120 non-null int64\n",
      "Soil_Type38                           15120 non-null int64\n",
      "Soil_Type39                           15120 non-null int64\n",
      "Soil_Type40                           15120 non-null int64\n",
      "Cover_Type                            15120 non-null int64\n",
      "dtypes: int64(56)\n",
      "memory usage: 6.5 MB\n",
      "None\n",
      "                Id     Elevation        Aspect         Slope  \\\n",
      "count  15120.00000  15120.000000  15120.000000  15120.000000   \n",
      "mean    7560.50000   2749.322553    156.676653     16.501587   \n",
      "std     4364.91237    417.678187    110.085801      8.453927   \n",
      "min        1.00000   1863.000000      0.000000      0.000000   \n",
      "25%     3780.75000   2376.000000     65.000000     10.000000   \n",
      "50%     7560.50000   2752.000000    126.000000     15.000000   \n",
      "75%    11340.25000   3104.000000    261.000000     22.000000   \n",
      "max    15120.00000   3849.000000    360.000000     52.000000   \n",
      "\n",
      "       Horizontal_Distance_To_Hydrology  Vertical_Distance_To_Hydrology  \\\n",
      "count                      15120.000000                    15120.000000   \n",
      "mean                         227.195701                       51.076521   \n",
      "std                          210.075296                       61.239406   \n",
      "min                            0.000000                     -146.000000   \n",
      "25%                           67.000000                        5.000000   \n",
      "50%                          180.000000                       32.000000   \n",
      "75%                          330.000000                       79.000000   \n",
      "max                         1343.000000                      554.000000   \n",
      "\n",
      "       Horizontal_Distance_To_Roadways  Hillshade_9am  Hillshade_Noon  \\\n",
      "count                     15120.000000   15120.000000    15120.000000   \n",
      "mean                       1714.023214     212.704299      218.965608   \n",
      "std                        1325.066358      30.561287       22.801966   \n",
      "min                           0.000000       0.000000       99.000000   \n",
      "25%                         764.000000     196.000000      207.000000   \n",
      "50%                        1316.000000     220.000000      223.000000   \n",
      "75%                        2270.000000     235.000000      235.000000   \n",
      "max                        6890.000000     254.000000      254.000000   \n",
      "\n",
      "       Hillshade_3pm      ...        Soil_Type32   Soil_Type33   Soil_Type34  \\\n",
      "count   15120.000000      ...       15120.000000  15120.000000  15120.000000   \n",
      "mean      135.091997      ...           0.045635      0.040741      0.001455   \n",
      "std        45.895189      ...           0.208699      0.197696      0.038118   \n",
      "min         0.000000      ...           0.000000      0.000000      0.000000   \n",
      "25%       106.000000      ...           0.000000      0.000000      0.000000   \n",
      "50%       138.000000      ...           0.000000      0.000000      0.000000   \n",
      "75%       167.000000      ...           0.000000      0.000000      0.000000   \n",
      "max       248.000000      ...           1.000000      1.000000      1.000000   \n",
      "\n",
      "        Soil_Type35   Soil_Type36   Soil_Type37   Soil_Type38   Soil_Type39  \\\n",
      "count  15120.000000  15120.000000  15120.000000  15120.000000  15120.000000   \n",
      "mean       0.006746      0.000661      0.002249      0.048148      0.043452   \n",
      "std        0.081859      0.025710      0.047368      0.214086      0.203880   \n",
      "min        0.000000      0.000000      0.000000      0.000000      0.000000   \n",
      "25%        0.000000      0.000000      0.000000      0.000000      0.000000   \n",
      "50%        0.000000      0.000000      0.000000      0.000000      0.000000   \n",
      "75%        0.000000      0.000000      0.000000      0.000000      0.000000   \n",
      "max        1.000000      1.000000      1.000000      1.000000      1.000000   \n",
      "\n",
      "        Soil_Type40    Cover_Type  \n",
      "count  15120.000000  15120.000000  \n",
      "mean       0.030357      4.000000  \n",
      "std        0.171574      2.000066  \n",
      "min        0.000000      1.000000  \n",
      "25%        0.000000      2.000000  \n",
      "50%        0.000000      4.000000  \n",
      "75%        0.000000      6.000000  \n",
      "max        1.000000      7.000000  \n",
      "\n",
      "[8 rows x 56 columns]\n"
     ]
    }
   ],
   "source": [
    "print(df_train.info())\n",
    "print(df_train.describe())"
   ]
  },
  {
   "cell_type": "markdown",
   "metadata": {},
   "source": [
    "- No missing data, only int.\n",
    "- Negative values present in Vertical_Distance_To_Hydrology. So, some tests such as chi-sq cant be used.\n",
    "- Wilderness_Area and Soil_Type are one hot encoded. So, they could be converted back for some analysis.\n",
    "- Attributes Soil_Type7 and Soil_Type15 can be removed as they are constant.\n",
    "- Scales are not the same for all. So, rescaling and standardization may be necessary for some algos."
   ]
  },
  {
   "cell_type": "markdown",
   "metadata": {},
   "source": [
    "Drop the column Id, since it's just a serial number"
   ]
  },
  {
   "cell_type": "code",
   "execution_count": 127,
   "metadata": {},
   "outputs": [],
   "source": [
    "df_train = df_train.iloc[:,1:]"
   ]
  },
  {
   "cell_type": "markdown",
   "metadata": {},
   "source": [
    "## Skewness of the distribution"
   ]
  },
  {
   "cell_type": "code",
   "execution_count": 128,
   "metadata": {},
   "outputs": [
    {
     "name": "stdout",
     "output_type": "stream",
     "text": [
      "Aspect                                  0.450935\n",
      "Slope                                   0.523658\n",
      "Horizontal_Distance_To_Hydrology        1.488052\n",
      "Vertical_Distance_To_Hydrology          1.537776\n",
      "Horizontal_Distance_To_Roadways         1.247811\n",
      "Hillshade_9am                          -1.093681\n",
      "Hillshade_Noon                         -0.953232\n",
      "Hillshade_3pm                          -0.340827\n",
      "Horizontal_Distance_To_Fire_Points      1.617099\n",
      "Wilderness_Area1                        1.231244\n",
      "Wilderness_Area2                        5.228781\n",
      "Wilderness_Area3                        0.324594\n",
      "Wilderness_Area4                        0.825798\n",
      "Soil_Type1                              6.294716\n",
      "Soil_Type2                              4.617019\n",
      "Soil_Type3                              3.575995\n",
      "Soil_Type4                              3.872721\n",
      "Soil_Type5                              9.416209\n",
      "Soil_Type6                              4.506716\n",
      "Soil_Type7                              0.000000\n",
      "Soil_Type8                            122.963409\n",
      "Soil_Type9                             38.849712\n",
      "Soil_Type10                             2.055410\n",
      "Soil_Type11                             5.854551\n",
      "Soil_Type12                             7.977205\n",
      "Soil_Type13                             5.366836\n",
      "Soil_Type14                             9.300318\n",
      "Soil_Type15                             0.000000\n",
      "Soil_Type16                            11.387050\n",
      "Soil_Type17                             4.663945\n",
      "Soil_Type18                            15.781426\n",
      "Soil_Type19                            18.048915\n",
      "Soil_Type20                            10.286265\n",
      "Soil_Type21                            30.695081\n",
      "Soil_Type22                             6.391991\n",
      "Soil_Type23                             4.126701\n",
      "Soil_Type24                             7.474026\n",
      "Soil_Type25                           122.963409\n",
      "Soil_Type26                            16.645076\n",
      "Soil_Type27                            31.704896\n",
      "Soil_Type28                            40.955261\n",
      "Soil_Type29                             2.967651\n",
      "Soil_Type30                             4.231913\n",
      "Soil_Type31                             6.524804\n",
      "Soil_Type32                             4.354839\n",
      "Soil_Type33                             4.646742\n",
      "Soil_Type34                            26.161230\n",
      "Soil_Type35                            12.052838\n",
      "Soil_Type36                            38.849712\n",
      "Soil_Type37                            21.018939\n",
      "Soil_Type38                             4.221771\n",
      "Soil_Type39                             4.479186\n",
      "Soil_Type40                             5.475256\n",
      "Cover_Type                              0.000000\n",
      "dtype: float64\n"
     ]
    }
   ],
   "source": [
    "print(df_train.skew())"
   ]
  },
  {
   "cell_type": "markdown",
   "metadata": {},
   "source": [
    "Values close to 0 show less skew\n",
    "\n",
    "Several attributes in Soil_Type show a large skew. So, some algos may benefit if skew is corrected"
   ]
  },
  {
   "cell_type": "markdown",
   "metadata": {},
   "source": [
    "## Class distribution"
   ]
  },
  {
   "cell_type": "code",
   "execution_count": 129,
   "metadata": {},
   "outputs": [
    {
     "data": {
      "text/plain": [
       "Cover_Type\n",
       "1    2160\n",
       "2    2160\n",
       "3    2160\n",
       "4    2160\n",
       "5    2160\n",
       "6    2160\n",
       "7    2160\n",
       "dtype: int64"
      ]
     },
     "execution_count": 129,
     "metadata": {},
     "output_type": "execute_result"
    }
   ],
   "source": [
    "df_train.groupby('Cover_Type').size()"
   ]
  },
  {
   "cell_type": "markdown",
   "metadata": {},
   "source": [
    "We see that all classes have an equal presence. No class re-balancing is necessary"
   ]
  },
  {
   "cell_type": "markdown",
   "metadata": {},
   "source": [
    "## Correlation"
   ]
  },
  {
   "cell_type": "markdown",
   "metadata": {},
   "source": [
    "Ignoring Wilderness_Area and Soil_Type as they are binary"
   ]
  },
  {
   "cell_type": "code",
   "execution_count": 130,
   "metadata": {
    "collapsed": true
   },
   "outputs": [],
   "source": [
    "data=df_train.iloc[:,:10] \n",
    "cols=data.columns"
   ]
  },
  {
   "cell_type": "code",
   "execution_count": 131,
   "metadata": {},
   "outputs": [
    {
     "name": "stdout",
     "output_type": "stream",
     "text": [
      "Hillshade_9am and Hillshade_3pm = -0.78\n",
      "Horizontal_Distance_To_Hydrology and Vertical_Distance_To_Hydrology = 0.65\n",
      "Aspect and Hillshade_3pm = 0.64\n",
      "Hillshade_Noon and Hillshade_3pm = 0.61\n",
      "Slope and Hillshade_Noon = -0.61\n",
      "Aspect and Hillshade_9am = -0.59\n"
     ]
    }
   ],
   "source": [
    "data_corr = data.corr()\n",
    "\n",
    "# selecting only highly correlated attributes\n",
    "threshold = 0.5\n",
    "\n",
    "corr_list = []\n",
    "\n",
    "#Searching for the highly correlated pairs\n",
    "for i in range(0,10): \n",
    "    for j in range(i+1,10): #avoid repetition\n",
    "        if (data_corr.iloc[i,j] >= threshold and data_corr.iloc[i,j] < 1) or (data_corr.iloc[i,j] < 0 and data_corr.iloc[i,j] <= -threshold):\n",
    "            corr_list.append([data_corr.iloc[i,j],i,j]) \n",
    "\n",
    "#Sorting           \n",
    "s_corr_list = sorted(corr_list,key=lambda x: -abs(x[0]))\n",
    "\n",
    "#Printing\n",
    "for v,i,j in s_corr_list:\n",
    "    print (\"%s and %s = %.2f\" % (cols[i],cols[j],v))\n"
   ]
  },
  {
   "cell_type": "markdown",
   "metadata": {},
   "source": [
    "This represents an opportunity to reduce the feature set through transformations such as PCA"
   ]
  },
  {
   "cell_type": "markdown",
   "metadata": {},
   "source": [
    "# Data Visualization"
   ]
  },
  {
   "cell_type": "markdown",
   "metadata": {},
   "source": [
    "## Grouping of One hot encoded attributes"
   ]
  },
  {
   "cell_type": "code",
   "execution_count": 132,
   "metadata": {},
   "outputs": [],
   "source": [
    "cols = df_train.columns\n",
    "r,c = df_train.shape\n",
    "\n",
    "data = pd.DataFrame(index=np.arange(0, r),columns=['Wilderness_Area','Soil_Type','Cover_Type'])"
   ]
  },
  {
   "cell_type": "code",
   "execution_count": 133,
   "metadata": {},
   "outputs": [],
   "source": [
    "for i in range(0,r):\n",
    "    w=0;\n",
    "    s=0;\n",
    "    # Category1 range\n",
    "    for j in range(10,14):\n",
    "        if (df_train.iloc[i,j] == 1):\n",
    "            w=j-9  #category class\n",
    "            break\n",
    "    # Category2 range        \n",
    "    for k in range(14,54):\n",
    "        if (df_train.iloc[i,k] == 1):\n",
    "            s=k-13 #category class\n",
    "            break\n",
    "    #Make an entry in 'data' for each r as category_id, target value        \n",
    "    data.iloc[i]=[w,s,df_train.iloc[i,c-1]]"
   ]
  },
  {
   "cell_type": "markdown",
   "metadata": {},
   "source": [
    "Plotting Wilderness Area"
   ]
  },
  {
   "cell_type": "code",
   "execution_count": 134,
   "metadata": {},
   "outputs": [
    {
     "data": {
      "image/png": "[encoded data removed]",
      "text/plain": [
       "<matplotlib.figure.Figure at 0x40f66668>"
      ]
     },
     "metadata": {},
     "output_type": "display_data"
    }
   ],
   "source": [
    "sns.countplot(x=\"Wilderness_Area\", hue=\"Cover_Type\", data=data)\n",
    "plt.show()"
   ]
  },
  {
   "cell_type": "markdown",
   "metadata": {},
   "source": [
    "- WildernessArea_4 has a lot of presence for cover_type 4. Good class distinction\n",
    "- WildernessArea_3 has not much class distinction"
   ]
  },
  {
   "cell_type": "markdown",
   "metadata": {},
   "source": [
    "Plotting Soil Type"
   ]
  },
  {
   "cell_type": "code",
   "execution_count": 135,
   "metadata": {},
   "outputs": [
    {
     "data": {
      "image/png": "[encoded data removed]",
      "text/plain": [
       "<matplotlib.figure.Figure at 0x41302668>"
      ]
     },
     "metadata": {},
     "output_type": "display_data"
    }
   ],
   "source": [
    "plt.rc(\"figure\", figsize=(25, 10))\n",
    "sns.countplot(x=\"Soil_Type\", hue=\"Cover_Type\", data=data)\n",
    "plt.show()"
   ]
  },
  {
   "cell_type": "markdown",
   "metadata": {},
   "source": [
    "Soil Type offers lot of class distinction as counts for some are very high"
   ]
  },
  {
   "cell_type": "markdown",
   "metadata": {},
   "source": [
    "# Cleaning"
   ]
  },
  {
   "cell_type": "markdown",
   "metadata": {},
   "source": [
    " I'm going to remove constant columns"
   ]
  },
  {
   "cell_type": "code",
   "execution_count": 136,
   "metadata": {},
   "outputs": [],
   "source": [
    "rem = []\n",
    "for c in df_train.columns:\n",
    "    if df_train[c].std() == 0: #standard deviation is zero\n",
    "        rem.append(c)\n",
    "       \n",
    "#dropping the columns        \n",
    "df_train.drop(rem,axis=1,inplace=True)"
   ]
  },
  {
   "cell_type": "markdown",
   "metadata": {},
   "source": [
    "# Preparing data"
   ]
  },
  {
   "cell_type": "markdown",
   "metadata": {},
   "source": [
    "Spliting data"
   ]
  },
  {
   "cell_type": "code",
   "execution_count": 137,
   "metadata": {},
   "outputs": [],
   "source": [
    "array = df_train.values\n",
    "X = array[:,:51]\n",
    "y = array[:, 51]\n",
    "\n",
    "from sklearn.model_selection import train_test_split\n",
    "\n",
    "X_train, X_val, Y_train, Y_val = train_test_split(X, y, test_size=0.1, random_state=0)"
   ]
  },
  {
   "cell_type": "markdown",
   "metadata": {},
   "source": [
    "# Creating the pipeline"
   ]
  },
  {
   "cell_type": "code",
   "execution_count": 149,
   "metadata": {},
   "outputs": [
    {
     "name": "stderr",
     "output_type": "stream",
     "text": [
      "C:\\Users\\zc2j\\anaconda3\\lib\\site-packages\\sklearn\\utils\\validation.py:475: DataConversionWarning: Data with input dtype int64 was converted to float64 by StandardScaler.\n",
      "  warnings.warn(msg, DataConversionWarning)\n"
     ]
    }
   ],
   "source": [
    "# Import pipeline\n",
    "from sklearn.pipeline import Pipeline\n",
    "\n",
    "#Import libraries for data transformations\n",
    "from sklearn.preprocessing import StandardScaler\n",
    "from sklearn.preprocessing import MinMaxScaler\n",
    "from sklearn.preprocessing import Normalizer\n",
    "\n",
    "#Import the libraries\n",
    "from sklearn.ensemble import RandomForestClassifier\n",
    "\n",
    "\n",
    "pl = Pipeline([\n",
    "        ('scale', StandardScaler()),\n",
    "        ('scaler_2', MinMaxScaler()),\n",
    "        ('Normalizer', Normalizer()),\n",
    "        ('clf', ExtraTreesClassifier(n_estimators=15))\n",
    "    ])\n",
    "\n",
    "my_forest = pl.fit(X_train, Y_train)\n",
    "\n",
    "Y_pred = my_forest.predict(df_test[['Aspect', 'Slope', 'Horizontal_Distance_To_Hydrology',\n",
    "       'Vertical_Distance_To_Hydrology', 'Horizontal_Distance_To_Roadways',\n",
    "       'Hillshade_9am', 'Hillshade_Noon', 'Hillshade_3pm',\n",
    "       'Horizontal_Distance_To_Fire_Points', 'Wilderness_Area1',\n",
    "       'Wilderness_Area2', 'Wilderness_Area3', 'Wilderness_Area4',\n",
    "       'Soil_Type1', 'Soil_Type2', 'Soil_Type3', 'Soil_Type4', 'Soil_Type5',\n",
    "       'Soil_Type6', 'Soil_Type8', 'Soil_Type9', 'Soil_Type10', 'Soil_Type11',\n",
    "       'Soil_Type12', 'Soil_Type13', 'Soil_Type14', 'Soil_Type16',\n",
    "       'Soil_Type17', 'Soil_Type18', 'Soil_Type19', 'Soil_Type20',\n",
    "       'Soil_Type21', 'Soil_Type22', 'Soil_Type23', 'Soil_Type24',\n",
    "       'Soil_Type25', 'Soil_Type26', 'Soil_Type27', 'Soil_Type28',\n",
    "       'Soil_Type29', 'Soil_Type30', 'Soil_Type31', 'Soil_Type32',\n",
    "       'Soil_Type33', 'Soil_Type34', 'Soil_Type35', 'Soil_Type36',\n",
    "       'Soil_Type37', 'Soil_Type38', 'Soil_Type39', 'Soil_Type40']])\n",
    "df_test['Cover_Type'] = Y_pred\n",
    "df_test[['Id', 'Cover_Type']].to_csv('data/ExtraTreesClassifier_Trees.csv', index=False)"
   ]
  },
  {
   "cell_type": "code",
   "execution_count": null,
   "metadata": {},
   "outputs": [],
   "source": []
  },
  {
   "cell_type": "code",
   "execution_count": null,
   "metadata": {},
   "outputs": [],
   "source": []
  },
  {
   "cell_type": "code",
   "execution_count": null,
   "metadata": {
    "collapsed": true
   },
   "outputs": [],
   "source": []
  }
 ],
 "metadata": {
  "kernelspec": {
   "display_name": "Python 3",
   "language": "python",
   "name": "python3"
  },
  "language_info": {
   "codemirror_mode": {
    "name": "ipython",
    "version": 3
   },
   "file_extension": ".py",
   "mimetype": "text/x-python",
   "name": "python",
   "nbconvert_exporter": "python",
   "pygments_lexer": "ipython3",
   "version": "3.6.3"
  }
 },
 "nbformat": 4,
 "nbformat_minor": 2
}
