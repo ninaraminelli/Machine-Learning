{
 "cells": [
  {
   "cell_type": "markdown",
   "metadata": {},
   "source": [
    "# KNN Classification</font>"
   ]
  },
  {
   "cell_type": "markdown",
   "metadata": {},
   "source": [
    "http://scikit-learn.org/stable/modules/generated/sklearn.datasets.load_digits.html"
   ]
  },
  {
   "cell_type": "code",
   "execution_count": 1,
   "metadata": {
    "collapsed": true
   },
   "outputs": [],
   "source": [
    "# importing packages\n",
    "import numpy as np\n",
    "import pandas as pd\n",
    "import matplotlib.pyplot as plt\n",
    "import sklearn\n",
    "import sklearn.datasets\n",
    "import sklearn.model_selection\n",
    "import sklearn.decomposition\n",
    "import sklearn.model_selection\n",
    "import sklearn.neighbors\n",
    "import sklearn.metrics"
   ]
  },
  {
   "cell_type": "code",
   "execution_count": 2,
   "metadata": {
    "collapsed": true
   },
   "outputs": [],
   "source": [
    "# generating dataset\n",
    "digits = sklearn.datasets.load_digits()"
   ]
  },
  {
   "cell_type": "code",
   "execution_count": 3,
   "metadata": {},
   "outputs": [
    {
     "data": {
      "text/plain": [
       "<matplotlib.figure.Figure at 0x1993d2c0080>"
      ]
     },
     "metadata": {},
     "output_type": "display_data"
    },
    {
     "data": {
      "image/png": "[encoded data removed]",
      "text/plain": [
       "<matplotlib.figure.Figure at 0x1993d2c0048>"
      ]
     },
     "metadata": {},
     "output_type": "display_data"
    }
   ],
   "source": [
    "# Ploting one\n",
    "plt.gray() \n",
    "plt.matshow(digits.images[2]) \n",
    "plt.show() "
   ]
  },
  {
   "cell_type": "code",
   "execution_count": 4,
   "metadata": {
    "collapsed": true
   },
   "outputs": [],
   "source": [
    "# Creating X e Y\n",
    "X = digits.data\n",
    "Y = digits.target"
   ]
  },
  {
   "cell_type": "code",
   "execution_count": 5,
   "metadata": {},
   "outputs": [
    {
     "name": "stdout",
     "output_type": "stream",
     "text": [
      "(1797, 64) (1797,)\n"
     ]
    }
   ],
   "source": [
    "# Shape of each one\n",
    "print(X.shape, Y.shape)"
   ]
  },
  {
   "cell_type": "code",
   "execution_count": 6,
   "metadata": {
    "collapsed": true
   },
   "outputs": [],
   "source": [
    "# Spliting in train and test set\n",
    "X_train, X_test, Y_train, Y_test = sklearn.model_selection.train_test_split (X, Y, \n",
    "                                                                                  test_size = 0.33, \n",
    "                                                                                  random_state = 101)"
   ]
  },
  {
   "cell_type": "code",
   "execution_count": 9,
   "metadata": {},
   "outputs": [],
   "source": [
    "# Normalizing using mean\n",
    "\n",
    "X_mean = np.mean(X_train, axis = 0)\n",
    "\n",
    "X_train_norm = X_train - X_mean\n",
    "X_test_norm = X_test - X_mean"
   ]
  },
  {
   "cell_type": "code",
   "execution_count": 11,
   "metadata": {},
   "outputs": [
    {
     "name": "stdout",
     "output_type": "stream",
     "text": [
      "(1203, 64) (594, 64) (1203,) (594,)\n"
     ]
    }
   ],
   "source": [
    "# Shape dos datasets\n",
    "print(X_train_norm.shape, X_test_norm.shape, Y_train.shape, Y_test.shape)"
   ]
  },
  {
   "cell_type": "code",
   "execution_count": 12,
   "metadata": {
    "collapsed": true
   },
   "outputs": [],
   "source": [
    "# Single Value Decompositon (SVD) - Reducing dimensions\n",
    "\n",
    "svd = sklearn.decomposition.TruncatedSVD(n_components = 2)\n",
    "X_2d = svd.fit_transform(X_train_norm)"
   ]
  },
  {
   "cell_type": "code",
   "execution_count": 48,
   "metadata": {
    "collapsed": true
   },
   "outputs": [],
   "source": [
    "# Function to test the best K value\n",
    "def compute_test(x_test, y_test, clf, cv):\n",
    "    KFolds = sklearn.model_selection.KFold(n_splits = cv)\n",
    "    \n",
    "    scores = []\n",
    "    \n",
    "    for i, j in KFolds.split(x_test):\n",
    "        test_set = x_test[j]\n",
    "        test_labels = y_test[j]\n",
    "        scores.append(sklearn.metrics.accuracy_score(test_labels, clf.predict(test_set)))\n",
    "    return scores"
   ]
  },
  {
   "cell_type": "code",
   "execution_count": 14,
   "metadata": {
    "collapsed": true
   },
   "outputs": [],
   "source": [
    "# Defining parameters, we will test K = 1 to 20\n",
    "k = np.arange(20) + 1\n",
    "parameters = {'n_neighbors':k}"
   ]
  },
  {
   "cell_type": "code",
   "execution_count": 15,
   "metadata": {
    "collapsed": true
   },
   "outputs": [],
   "source": [
    "# Constructing KNN model\n",
    "# http://scikit-learn.org/stable/modules/generated/sklearn.neighbors.KNeighborsClassifier.html\n",
    "model = sklearn.neighbors.KNeighborsClassifier()"
   ]
  },
  {
   "cell_type": "code",
   "execution_count": 22,
   "metadata": {
    "collapsed": true
   },
   "outputs": [],
   "source": [
    "# Grid Search for Cross Validation with the best K value\n",
    "modelKNN = sklearn.model_selection.GridSearchCV(model, parameters, cv = 10)"
   ]
  },
  {
   "cell_type": "code",
   "execution_count": 23,
   "metadata": {},
   "outputs": [
    {
     "data": {
      "text/plain": [
       "<bound method BaseEstimator.get_params of GridSearchCV(cv=10, error_score='raise',\n",
       "       estimator=KNeighborsClassifier(algorithm='auto', leaf_size=30, metric='minkowski',\n",
       "           metric_params=None, n_jobs=1, n_neighbors=5, p=2,\n",
       "           weights='uniform'),\n",
       "       fit_params={}, iid=True, n_jobs=1,\n",
       "       param_grid={'n_neighbors': array([ 1,  2,  3,  4,  5,  6,  7,  8,  9, 10, 11, 12, 13, 14, 15, 16, 17,\n",
       "       18, 19, 20])},\n",
       "       pre_dispatch='2*n_jobs', refit=True, return_train_score=True,\n",
       "       scoring=None, verbose=0)>"
      ]
     },
     "execution_count": 23,
     "metadata": {},
     "output_type": "execute_result"
    }
   ],
   "source": [
    "modelKNN.get_params"
   ]
  },
  {
   "cell_type": "code",
   "execution_count": 24,
   "metadata": {
    "collapsed": true
   },
   "outputs": [],
   "source": [
    "# Empty lists que will receive accuracy scores e parameters\n",
    "accuracy = []\n",
    "params = []"
   ]
  },
  {
   "cell_type": "code",
   "execution_count": 25,
   "metadata": {
    "collapsed": true
   },
   "outputs": [],
   "source": [
    "# Dimension list, we will test from 1 dimension to 10\n",
    "dimensions = [1, 2, 3, 4, 5, 6, 7, 8, 9, 10]"
   ]
  },
  {
   "cell_type": "code",
   "execution_count": 52,
   "metadata": {},
   "outputs": [],
   "source": [
    "# Implementing the model\n",
    "for d in dimensions:\n",
    "    svd = sklearn.decomposition.TruncatedSVD(n_components = d)\n",
    "    \n",
    "    if d < 64:\n",
    "        X_fit_train = svd.fit_transform(X_train)\n",
    "        X_fit_test = svd.transform(X_test)\n",
    "    else:\n",
    "        X_nl = X_train\n",
    "        X_nl1 = X_test\n",
    "        \n",
    "    modelKNN.fit(X_fit_train, Y_train)\n",
    "    \n",
    "    accuracy.append(compute_test(x_test = X_fit_test, y_test = Y_test, clf = modelKNN, cv = 10))\n",
    "    params.append(modelKNN.best_params_['n_neighbors'])"
   ]
  },
  {
   "cell_type": "code",
   "execution_count": 54,
   "metadata": {},
   "outputs": [
    {
     "name": "stdout",
     "output_type": "stream",
     "text": [
      "[[0.18333333333333332, 0.083333333333333329, 0.16666666666666666, 0.13333333333333333, 0.1864406779661017, 0.10169491525423729, 0.13559322033898305, 0.10169491525423729, 0.067796610169491525, 0.15254237288135594], [0.48333333333333334, 0.40000000000000002, 0.41666666666666669, 0.31666666666666665, 0.38983050847457629, 0.40677966101694918, 0.4576271186440678, 0.5423728813559322, 0.30508474576271188, 0.38983050847457629], [0.68333333333333335, 0.68333333333333335, 0.6333333333333333, 0.66666666666666663, 0.61016949152542377, 0.57627118644067798, 0.74576271186440679, 0.67796610169491522, 0.61016949152542377, 0.64406779661016944], [0.81666666666666665, 0.81666666666666665, 0.75, 0.76666666666666672, 0.76271186440677963, 0.72881355932203384, 0.86440677966101698, 0.84745762711864403, 0.69491525423728817, 0.81355932203389836], [0.91666666666666663, 0.84999999999999998, 0.83333333333333337, 0.84999999999999998, 0.83050847457627119, 0.81355932203389836, 0.9152542372881356, 0.86440677966101698, 0.79661016949152541, 0.96610169491525422], [0.93333333333333335, 0.91666666666666663, 0.96666666666666667, 0.90000000000000002, 0.86440677966101698, 0.94915254237288138, 1.0, 0.9152542372881356, 0.83050847457627119, 0.96610169491525422], [0.96666666666666667, 0.96666666666666667, 0.93333333333333335, 0.8833333333333333, 0.86440677966101698, 0.96610169491525422, 0.96610169491525422, 0.94915254237288138, 0.86440677966101698, 0.98305084745762716], [0.96666666666666667, 0.91666666666666663, 0.94999999999999996, 0.91666666666666663, 0.94915254237288138, 0.94915254237288138, 0.98305084745762716, 0.89830508474576276, 0.86440677966101698, 0.98305084745762716], [0.98333333333333328, 0.96666666666666667, 0.93333333333333335, 0.93333333333333335, 0.93220338983050843, 0.98305084745762716, 0.98305084745762716, 0.93220338983050843, 0.94915254237288138, 0.98305084745762716], [1.0, 0.98333333333333328, 0.93333333333333335, 0.90000000000000002, 0.96610169491525422, 1.0, 1.0, 0.94915254237288138, 0.94915254237288138, 0.96610169491525422], [0.18333333333333332, 0.083333333333333329, 0.16666666666666666, 0.13333333333333333, 0.1864406779661017, 0.10169491525423729, 0.13559322033898305, 0.10169491525423729, 0.067796610169491525, 0.15254237288135594], [0.48333333333333334, 0.40000000000000002, 0.41666666666666669, 0.31666666666666665, 0.38983050847457629, 0.40677966101694918, 0.4576271186440678, 0.5423728813559322, 0.30508474576271188, 0.38983050847457629], [0.68333333333333335, 0.66666666666666663, 0.6333333333333333, 0.66666666666666663, 0.61016949152542377, 0.57627118644067798, 0.74576271186440679, 0.67796610169491522, 0.61016949152542377, 0.64406779661016944], [0.81666666666666665, 0.81666666666666665, 0.75, 0.76666666666666672, 0.76271186440677963, 0.72881355932203384, 0.86440677966101698, 0.84745762711864403, 0.69491525423728817, 0.81355932203389836], [0.91666666666666663, 0.84999999999999998, 0.83333333333333337, 0.84999999999999998, 0.83050847457627119, 0.81355932203389836, 0.9152542372881356, 0.86440677966101698, 0.79661016949152541, 0.96610169491525422], [0.94999999999999996, 0.96666666666666667, 0.94999999999999996, 0.8833333333333333, 0.89830508474576276, 0.96610169491525422, 0.94915254237288138, 0.9152542372881356, 0.84745762711864403, 0.96610169491525422], [0.96666666666666667, 0.96666666666666667, 0.93333333333333335, 0.8833333333333333, 0.86440677966101698, 0.96610169491525422, 0.96610169491525422, 0.94915254237288138, 0.86440677966101698, 0.98305084745762716], [0.96666666666666667, 0.91666666666666663, 0.94999999999999996, 0.91666666666666663, 0.94915254237288138, 0.94915254237288138, 0.98305084745762716, 0.89830508474576276, 0.86440677966101698, 0.98305084745762716], [0.98333333333333328, 0.96666666666666667, 0.93333333333333335, 0.93333333333333335, 0.93220338983050843, 0.98305084745762716, 0.98305084745762716, 0.93220338983050843, 0.94915254237288138, 0.98305084745762716], [1.0, 0.98333333333333328, 0.93333333333333335, 0.90000000000000002, 0.96610169491525422, 1.0, 1.0, 0.94915254237288138, 0.94915254237288138, 0.96610169491525422]]\n",
      "[7, 18, 20, 5, 6, 4, 4, 1, 4, 1, 7, 18, 20, 5, 6, 8, 4, 1, 4, 1]\n"
     ]
    }
   ],
   "source": [
    "# Accuracy grows as we increase the number of dimensions\n",
    "print(accuracy)\n",
    "print(params)"
   ]
  },
  {
   "cell_type": "markdown",
   "metadata": {},
   "source": [
    "## Changing parameters"
   ]
  },
  {
   "cell_type": "code",
   "execution_count": 57,
   "metadata": {},
   "outputs": [],
   "source": [
    "# Changing model's parameters, let's try hamming...\n",
    "model_v2 = sklearn.neighbors.KNeighborsClassifier(metric = 'hamming')\n",
    "\n",
    "# Grid Search for Cross Validation with the best K value\n",
    "modelKNN_V2 = sklearn.model_selection.GridSearchCV(model_v2, parameters, cv = 10)"
   ]
  },
  {
   "cell_type": "code",
   "execution_count": 59,
   "metadata": {},
   "outputs": [
    {
     "data": {
      "text/plain": [
       "<bound method BaseEstimator.get_params of GridSearchCV(cv=10, error_score='raise',\n",
       "       estimator=KNeighborsClassifier(algorithm='auto', leaf_size=30, metric='hamming',\n",
       "           metric_params=None, n_jobs=1, n_neighbors=5, p=2,\n",
       "           weights='uniform'),\n",
       "       fit_params={}, iid=True, n_jobs=1,\n",
       "       param_grid={'n_neighbors': array([ 1,  2,  3,  4,  5,  6,  7,  8,  9, 10, 11, 12, 13, 14, 15, 16, 17,\n",
       "       18, 19, 20])},\n",
       "       pre_dispatch='2*n_jobs', refit=True, return_train_score=True,\n",
       "       scoring=None, verbose=0)>"
      ]
     },
     "execution_count": 59,
     "metadata": {},
     "output_type": "execute_result"
    }
   ],
   "source": [
    "modelKNN_V2.get_params"
   ]
  },
  {
   "cell_type": "code",
   "execution_count": 42,
   "metadata": {
    "collapsed": true
   },
   "outputs": [],
   "source": [
    "# Empty lists\n",
    "accuracy2 = []\n",
    "params2 = []\n",
    "\n",
    "# Dimension list\n",
    "dimensions = [1, 2, 3, 4, 5, 6, 7, 8, 9, 10]"
   ]
  },
  {
   "cell_type": "code",
   "execution_count": 65,
   "metadata": {},
   "outputs": [],
   "source": [
    "# Implementing models\n",
    "for d in dimensions:\n",
    "    svd = sklearn.decomposition.TruncatedSVD(n_components = d)\n",
    "    \n",
    "    if d < 64:\n",
    "        X_fit_train = svd.fit_transform(X_train)\n",
    "        X_fit_test = svd.transform(X_test)\n",
    "    else:\n",
    "        X_nl = X_train\n",
    "        X_nl1 = X_test\n",
    "        \n",
    "    modelKNN_V2.fit(X_fit_train, Y_train)\n",
    "    \n",
    "    accuracy2.append(compute_test(x_test = X_fit_test, y_test = Y_test, clf = modelKNN_V2, cv = 10))\n",
    "    params2.append(modelKNN_V2.best_params_['n_neighbors'])"
   ]
  },
  {
   "cell_type": "code",
   "execution_count": 64,
   "metadata": {},
   "outputs": [
    {
     "data": {
      "text/plain": [
       "[[0.18333333333333332,\n",
       "  0.083333333333333329,\n",
       "  0.13333333333333333,\n",
       "  0.13333333333333333,\n",
       "  0.050847457627118647,\n",
       "  0.084745762711864403,\n",
       "  0.067796610169491525,\n",
       "  0.10169491525423729,\n",
       "  0.084745762711864403,\n",
       "  0.067796610169491525],\n",
       " [0.083333333333333329,\n",
       "  0.050000000000000003,\n",
       "  0.13333333333333333,\n",
       "  0.13333333333333333,\n",
       "  0.10169491525423729,\n",
       "  0.050847457627118647,\n",
       "  0.067796610169491525,\n",
       "  0.10169491525423729,\n",
       "  0.067796610169491525,\n",
       "  0.10169491525423729],\n",
       " [0.083333333333333329,\n",
       "  0.050000000000000003,\n",
       "  0.11666666666666667,\n",
       "  0.083333333333333329,\n",
       "  0.084745762711864403,\n",
       "  0.10169491525423729,\n",
       "  0.11864406779661017,\n",
       "  0.13559322033898305,\n",
       "  0.13559322033898305,\n",
       "  0.067796610169491525],\n",
       " [0.18333333333333332,\n",
       "  0.083333333333333329,\n",
       "  0.13333333333333333,\n",
       "  0.13333333333333333,\n",
       "  0.050847457627118647,\n",
       "  0.084745762711864403,\n",
       "  0.067796610169491525,\n",
       "  0.10169491525423729,\n",
       "  0.084745762711864403,\n",
       "  0.067796610169491525],\n",
       " [0.083333333333333329,\n",
       "  0.050000000000000003,\n",
       "  0.11666666666666667,\n",
       "  0.083333333333333329,\n",
       "  0.084745762711864403,\n",
       "  0.10169491525423729,\n",
       "  0.11864406779661017,\n",
       "  0.13559322033898305,\n",
       "  0.13559322033898305,\n",
       "  0.067796610169491525],\n",
       " [0.083333333333333329,\n",
       "  0.050000000000000003,\n",
       "  0.11666666666666667,\n",
       "  0.083333333333333329,\n",
       "  0.084745762711864403,\n",
       "  0.10169491525423729,\n",
       "  0.11864406779661017,\n",
       "  0.13559322033898305,\n",
       "  0.13559322033898305,\n",
       "  0.067796610169491525],\n",
       " [0.083333333333333329,\n",
       "  0.050000000000000003,\n",
       "  0.11666666666666667,\n",
       "  0.083333333333333329,\n",
       "  0.084745762711864403,\n",
       "  0.10169491525423729,\n",
       "  0.11864406779661017,\n",
       "  0.13559322033898305,\n",
       "  0.13559322033898305,\n",
       "  0.067796610169491525],\n",
       " [0.083333333333333329,\n",
       "  0.050000000000000003,\n",
       "  0.13333333333333333,\n",
       "  0.13333333333333333,\n",
       "  0.10169491525423729,\n",
       "  0.050847457627118647,\n",
       "  0.067796610169491525,\n",
       "  0.10169491525423729,\n",
       "  0.067796610169491525,\n",
       "  0.10169491525423729],\n",
       " [0.083333333333333329,\n",
       "  0.050000000000000003,\n",
       "  0.13333333333333333,\n",
       "  0.13333333333333333,\n",
       "  0.10169491525423729,\n",
       "  0.050847457627118647,\n",
       "  0.067796610169491525,\n",
       "  0.10169491525423729,\n",
       "  0.067796610169491525,\n",
       "  0.10169491525423729],\n",
       " [0.083333333333333329,\n",
       "  0.050000000000000003,\n",
       "  0.13333333333333333,\n",
       "  0.13333333333333333,\n",
       "  0.10169491525423729,\n",
       "  0.050847457627118647,\n",
       "  0.067796610169491525,\n",
       "  0.10169491525423729,\n",
       "  0.067796610169491525,\n",
       "  0.10169491525423729],\n",
       " [0.18333333333333332,\n",
       "  0.083333333333333329,\n",
       "  0.13333333333333333,\n",
       "  0.13333333333333333,\n",
       "  0.050847457627118647,\n",
       "  0.084745762711864403,\n",
       "  0.067796610169491525,\n",
       "  0.10169491525423729,\n",
       "  0.084745762711864403,\n",
       "  0.067796610169491525],\n",
       " [0.18333333333333332,\n",
       "  0.083333333333333329,\n",
       "  0.13333333333333333,\n",
       "  0.13333333333333333,\n",
       "  0.050847457627118647,\n",
       "  0.084745762711864403,\n",
       "  0.067796610169491525,\n",
       "  0.10169491525423729,\n",
       "  0.084745762711864403,\n",
       "  0.067796610169491525],\n",
       " [0.18333333333333332,\n",
       "  0.083333333333333329,\n",
       "  0.13333333333333333,\n",
       "  0.13333333333333333,\n",
       "  0.050847457627118647,\n",
       "  0.084745762711864403,\n",
       "  0.067796610169491525,\n",
       "  0.10169491525423729,\n",
       "  0.084745762711864403,\n",
       "  0.067796610169491525],\n",
       " [0.083333333333333329,\n",
       "  0.050000000000000003,\n",
       "  0.13333333333333333,\n",
       "  0.13333333333333333,\n",
       "  0.10169491525423729,\n",
       "  0.050847457627118647,\n",
       "  0.067796610169491525,\n",
       "  0.10169491525423729,\n",
       "  0.067796610169491525,\n",
       "  0.10169491525423729],\n",
       " [0.083333333333333329,\n",
       "  0.050000000000000003,\n",
       "  0.11666666666666667,\n",
       "  0.083333333333333329,\n",
       "  0.084745762711864403,\n",
       "  0.10169491525423729,\n",
       "  0.11864406779661017,\n",
       "  0.13559322033898305,\n",
       "  0.13559322033898305,\n",
       "  0.067796610169491525],\n",
       " [0.18333333333333332,\n",
       "  0.083333333333333329,\n",
       "  0.13333333333333333,\n",
       "  0.13333333333333333,\n",
       "  0.050847457627118647,\n",
       "  0.084745762711864403,\n",
       "  0.067796610169491525,\n",
       "  0.10169491525423729,\n",
       "  0.084745762711864403,\n",
       "  0.067796610169491525],\n",
       " [0.083333333333333329,\n",
       "  0.050000000000000003,\n",
       "  0.11666666666666667,\n",
       "  0.083333333333333329,\n",
       "  0.084745762711864403,\n",
       "  0.10169491525423729,\n",
       "  0.11864406779661017,\n",
       "  0.13559322033898305,\n",
       "  0.13559322033898305,\n",
       "  0.067796610169491525],\n",
       " [0.083333333333333329,\n",
       "  0.050000000000000003,\n",
       "  0.11666666666666667,\n",
       "  0.083333333333333329,\n",
       "  0.084745762711864403,\n",
       "  0.10169491525423729,\n",
       "  0.11864406779661017,\n",
       "  0.13559322033898305,\n",
       "  0.13559322033898305,\n",
       "  0.067796610169491525],\n",
       " [0.083333333333333329,\n",
       "  0.050000000000000003,\n",
       "  0.11666666666666667,\n",
       "  0.083333333333333329,\n",
       "  0.084745762711864403,\n",
       "  0.10169491525423729,\n",
       "  0.11864406779661017,\n",
       "  0.13559322033898305,\n",
       "  0.13559322033898305,\n",
       "  0.067796610169491525],\n",
       " [0.083333333333333329,\n",
       "  0.050000000000000003,\n",
       "  0.13333333333333333,\n",
       "  0.13333333333333333,\n",
       "  0.10169491525423729,\n",
       "  0.050847457627118647,\n",
       "  0.067796610169491525,\n",
       "  0.10169491525423729,\n",
       "  0.067796610169491525,\n",
       "  0.10169491525423729],\n",
       " [0.083333333333333329,\n",
       "  0.050000000000000003,\n",
       "  0.13333333333333333,\n",
       "  0.13333333333333333,\n",
       "  0.10169491525423729,\n",
       "  0.050847457627118647,\n",
       "  0.067796610169491525,\n",
       "  0.10169491525423729,\n",
       "  0.067796610169491525,\n",
       "  0.10169491525423729],\n",
       " [0.083333333333333329,\n",
       "  0.050000000000000003,\n",
       "  0.13333333333333333,\n",
       "  0.13333333333333333,\n",
       "  0.10169491525423729,\n",
       "  0.050847457627118647,\n",
       "  0.067796610169491525,\n",
       "  0.10169491525423729,\n",
       "  0.067796610169491525,\n",
       "  0.10169491525423729]]"
      ]
     },
     "execution_count": 64,
     "metadata": {},
     "output_type": "execute_result"
    }
   ],
   "source": [
    "accuracy2"
   ]
  },
  {
   "cell_type": "markdown",
   "metadata": {},
   "source": [
    "### The model is much worst now!!! minkowski is better in this case"
   ]
  },
  {
   "cell_type": "code",
   "execution_count": 77,
   "metadata": {},
   "outputs": [
    {
     "data": {
      "text/plain": [
       "KNeighborsClassifier(algorithm='auto', leaf_size=30, metric='minkowski',\n",
       "           metric_params=None, n_jobs=1, n_neighbors=1, p=2,\n",
       "           weights='uniform')"
      ]
     },
     "execution_count": 77,
     "metadata": {},
     "output_type": "execute_result"
    }
   ],
   "source": [
    "svd = sklearn.decomposition.TruncatedSVD(n_components = 10)\n",
    "X_fit_train = svd.fit_transform(X_train)\n",
    "X_fit_test = svd.transform(X_test)\n",
    "finalmodel = sklearn.neighbors.KNeighborsClassifier(n_neighbors=1)\n",
    "finalmodel.fit(X_fit_train, Y_train)"
   ]
  },
  {
   "cell_type": "code",
   "execution_count": 78,
   "metadata": {},
   "outputs": [
    {
     "name": "stdout",
     "output_type": "stream",
     "text": [
      "Accuracy: 0.978 (0.018)\n"
     ]
    }
   ],
   "source": [
    "from sklearn import model_selection\n",
    "kfold = model_selection.KFold(n_splits=10, random_state=7)\n",
    "results = model_selection.cross_val_score(finalmodel, X_fit_test, Y_test, cv=kfold, scoring='accuracy')\n",
    "print(\"Accuracy: %.3f (%.3f)\" % (results.mean(), results.std()))"
   ]
  },
  {
   "cell_type": "markdown",
   "metadata": {},
   "source": [
    "### 97,8% !!! It's great!"
   ]
  },
  {
   "cell_type": "code",
   "execution_count": null,
   "metadata": {
    "collapsed": true
   },
   "outputs": [],
   "source": []
  }
 ],
 "metadata": {
  "anaconda-cloud": {},
  "kernelspec": {
   "display_name": "Python 3",
   "language": "python",
   "name": "python3"
  },
  "language_info": {
   "codemirror_mode": {
    "name": "ipython",
    "version": 3
   },
   "file_extension": ".py",
   "mimetype": "text/x-python",
   "name": "python",
   "nbconvert_exporter": "python",
   "pygments_lexer": "ipython3",
   "version": "3.6.1"
  }
 },
 "nbformat": 4,
 "nbformat_minor": 1
}
